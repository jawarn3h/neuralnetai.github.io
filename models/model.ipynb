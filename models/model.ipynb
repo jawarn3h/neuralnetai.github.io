{
  "nbformat": 4,
  "nbformat_minor": 0,
  "metadata": {
    "colab": {
      "name": "model.ipynb",
      "provenance": []
    },
    "kernelspec": {
      "name": "python3",
      "display_name": "Python 3"
    },
    "accelerator": "GPU"
  },
  "cells": [
    {
      "cell_type": "code",
      "metadata": {
        "id": "zCRN5gspuxKI",
        "colab_type": "code",
        "colab": {}
      },
      "source": [
        "import tensorflow as tf"
      ],
      "execution_count": 0,
      "outputs": []
    },
    {
      "cell_type": "code",
      "metadata": {
        "id": "XEZfJoD7vB_z",
        "colab_type": "code",
        "colab": {}
      },
      "source": [
        "import tensorflow_datasets as tfds\n",
        "import matplotlib.pyplot as plt\n",
        "import numpy as np"
      ],
      "execution_count": 0,
      "outputs": []
    },
    {
      "cell_type": "code",
      "metadata": {
        "id": "syW6KhoR10Oa",
        "colab_type": "code",
        "colab": {}
      },
      "source": [
        "(X_train, y_train), (X_test, y_test) = tf.keras.datasets.mnist.load_data()"
      ],
      "execution_count": 0,
      "outputs": []
    },
    {
      "cell_type": "code",
      "metadata": {
        "id": "6NA6fMi04tr4",
        "colab_type": "code",
        "outputId": "397fc69d-9cfb-4f06-d7f2-49f8a3cc435e",
        "colab": {
          "base_uri": "https://localhost:8080/",
          "height": 282
        }
      },
      "source": [
        "print(y_train[0])\n",
        "plt.imshow(X_train[0], cmap='gray')\n",
        "plt.show()"
      ],
      "execution_count": 78,
      "outputs": [
        {
          "output_type": "stream",
          "text": [
            "5\n"
          ],
          "name": "stdout"
        },
        {
          "output_type": "display_data",
          "data": {
            "image/png": "[encoded data removed]",
            "text/plain": [
              "<Figure size 432x288 with 1 Axes>"
            ]
          },
          "metadata": {
            "tags": []
          }
        }
      ]
    },
    {
      "cell_type": "code",
      "metadata": {
        "id": "m8LREzdF7niz",
        "colab_type": "code",
        "colab": {}
      },
      "source": [
        "input_shape = [28, 28, 1]\n",
        "\n",
        "X_train = tf.reshape(X_train, [X_train.shape[0]] + input_shape)\n",
        "X_test = tf.reshape(X_test, [X_test.shape[0]] + input_shape)\n",
        "\n",
        "X_train = tf.cast(X_train, dtype=tf.float32)\n",
        "X_test = tf.cast(X_test, dtype=tf.float32)"
      ],
      "execution_count": 0,
      "outputs": []
    },
    {
      "cell_type": "code",
      "metadata": {
        "id": "o810DjolZrN2",
        "colab_type": "code",
        "colab": {}
      },
      "source": [
        "X_train /= 255\n",
        "X_test /= 255"
      ],
      "execution_count": 0,
      "outputs": []
    },
    {
      "cell_type": "code",
      "metadata": {
        "id": "SIS7HBXCksJw",
        "colab_type": "code",
        "colab": {}
      },
      "source": [
        "def show_distribution(labels):\n",
        "  # Convert tensor to a list.\n",
        "  labels_list = list(labels)\n",
        "  num_classes = len(set(labels_list))\n",
        "  # Populate distribution list.\n",
        "  distribution = [labels_list.count(i) for i in range(num_classes)]\n",
        "  # Visualise.\n",
        "  y_index = range(num_classes)\n",
        "  plt.bar(y_index, distribution, align='center')\n",
        "  plt.xticks(y_index, sorted(set(labels_list)))\n",
        "  plt.ylabel('Frequency')\n",
        "  plt.show()"
      ],
      "execution_count": 0,
      "outputs": []
    },
    {
      "cell_type": "code",
      "metadata": {
        "id": "ykhnDaYEo5Ax",
        "colab_type": "code",
        "colab": {
          "base_uri": "https://localhost:8080/",
          "height": 267
        },
        "outputId": "149b6ae1-3de9-435c-e360-c02b950e61b6"
      },
      "source": [
        "# Show distribution in order to determine metrics.\n",
        "show_distribution(y_train)"
      ],
      "execution_count": 82,
      "outputs": [
        {
          "output_type": "display_data",
          "data": {
            "image/png": "[encoded data removed]",
            "text/plain": [
              "<Figure size 432x288 with 1 Axes>"
            ]
          },
          "metadata": {
            "tags": []
          }
        }
      ]
    },
    {
      "cell_type": "code",
      "metadata": {
        "id": "Ah9OsfdiexE5",
        "colab_type": "code",
        "colab": {}
      },
      "source": [
        "# Reshape so labels can be onehot encoded.\n",
        "y_train = tf.reshape(y_train, [-1, 1])\n",
        "y_test = tf.reshape(y_test, [-1, 1])"
      ],
      "execution_count": 0,
      "outputs": []
    },
    {
      "cell_type": "code",
      "metadata": {
        "id": "WE-JtKCSgWln",
        "colab_type": "code",
        "colab": {}
      },
      "source": [
        "from sklearn.preprocessing import OneHotEncoder\n",
        "\n",
        "# Set sparse to False in order to return an array.\n",
        "encoder = OneHotEncoder(sparse=False)\n",
        "\n",
        "y_train = tf.convert_to_tensor(encoder.fit_transform(y_train))\n",
        "y_test = tf.convert_to_tensor(encoder.fit_transform(y_test))"
      ],
      "execution_count": 0,
      "outputs": []
    },
    {
      "cell_type": "code",
      "metadata": {
        "id": "eK5caUTx9Hw6",
        "colab_type": "code",
        "colab": {}
      },
      "source": [
        "class MNISTModel(tf.keras.Model):\n",
        "  def __init__(self):\n",
        "    super(MNISTModel, self).__init__()\n",
        "    # Declare Layers Individually.\n",
        "    self.conv = tf.keras.layers.Conv2D(28, kernel_size=(3, 3), input_shape=input_shape)\n",
        "    self.max_pool = tf.keras.layers.MaxPooling2D(pool_size=(2, 2))\n",
        "    self.flatten = tf.keras.layers.Flatten()\n",
        "    self.fc1 = tf.keras.layers.Dense(128, activation=tf.nn.relu)\n",
        "    self.fc2 = tf.keras.layers.Dense(10, activation=tf.nn.softmax)\n",
        "\n",
        "  def call(self, inputs):\n",
        "    t = self.conv(inputs)\n",
        "    t = self.max_pool(t)\n",
        "    t = self.flatten(t)\n",
        "    t = self.fc1(t)\n",
        "    return self.fc2(t)"
      ],
      "execution_count": 0,
      "outputs": []
    },
    {
      "cell_type": "code",
      "metadata": {
        "id": "ZoivL7Pjeacx",
        "colab_type": "code",
        "colab": {}
      },
      "source": [
        "loss_fn = tf.keras.losses.CategoricalCrossentropy(from_logits=True)\n",
        "optimizer = tf.keras.optimizers.Adam()"
      ],
      "execution_count": 0,
      "outputs": []
    },
    {
      "cell_type": "code",
      "metadata": {
        "id": "f4szG4DkisUd",
        "colab_type": "code",
        "colab": {}
      },
      "source": [
        "model = MNISTModel()\n",
        "model.compile(optimizer=optimizer, loss=loss_fn, metrics=['accuracy'])"
      ],
      "execution_count": 0,
      "outputs": []
    },
    {
      "cell_type": "code",
      "metadata": {
        "id": "nOwAHzNNpS2c",
        "colab_type": "code",
        "colab": {
          "base_uri": "https://localhost:8080/",
          "height": 377
        },
        "outputId": "2a28bdd5-a1fd-4772-8c76-8244ef28b60a"
      },
      "source": [
        "h = model.fit(x=X_train, y=y_train, epochs=10, validation_data=(X_test, y_test), batch_size=32)"
      ],
      "execution_count": 105,
      "outputs": [
        {
          "output_type": "stream",
          "text": [
            "Epoch 1/10\n",
            "1875/1875 [==============================] - 6s 3ms/step - loss: 1.6514 - accuracy: 0.8098 - val_loss: 1.5916 - val_accuracy: 0.8699\n",
            "Epoch 2/10\n",
            "1875/1875 [==============================] - 6s 3ms/step - loss: 1.5866 - accuracy: 0.8741 - val_loss: 1.5855 - val_accuracy: 0.8753\n",
            "Epoch 3/10\n",
            "1875/1875 [==============================] - 6s 3ms/step - loss: 1.5374 - accuracy: 0.9239 - val_loss: 1.4880 - val_accuracy: 0.9739\n",
            "Epoch 4/10\n",
            "1875/1875 [==============================] - 6s 3ms/step - loss: 1.4805 - accuracy: 0.9817 - val_loss: 1.4865 - val_accuracy: 0.9755\n",
            "Epoch 5/10\n",
            "1875/1875 [==============================] - 6s 3ms/step - loss: 1.4764 - accuracy: 0.9853 - val_loss: 1.4820 - val_accuracy: 0.9798\n",
            "Epoch 6/10\n",
            "1875/1875 [==============================] - 6s 3ms/step - loss: 1.4742 - accuracy: 0.9876 - val_loss: 1.4817 - val_accuracy: 0.9800\n",
            "Epoch 7/10\n",
            "1875/1875 [==============================] - 6s 3ms/step - loss: 1.4725 - accuracy: 0.9890 - val_loss: 1.4815 - val_accuracy: 0.9793\n",
            "Epoch 8/10\n",
            "1875/1875 [==============================] - 6s 3ms/step - loss: 1.4715 - accuracy: 0.9900 - val_loss: 1.4811 - val_accuracy: 0.9801\n",
            "Epoch 9/10\n",
            "1875/1875 [==============================] - 6s 3ms/step - loss: 1.4704 - accuracy: 0.9911 - val_loss: 1.4792 - val_accuracy: 0.9821\n",
            "Epoch 10/10\n",
            "1875/1875 [==============================] - 6s 3ms/step - loss: 1.4695 - accuracy: 0.9919 - val_loss: 1.4812 - val_accuracy: 0.9802\n"
          ],
          "name": "stdout"
        }
      ]
    },
    {
      "cell_type": "code",
      "metadata": {
        "id": "bpJSjEiyuFvj",
        "colab_type": "code",
        "colab": {
          "base_uri": "https://localhost:8080/",
          "height": 282
        },
        "outputId": "d4ad782c-9037-4216-d116-97fef845cc93"
      },
      "source": [
        "# Let's test this...\n",
        "plt.imshow(tf.reshape(X_test[12], [28, 28]), cmap='gray')\n",
        "# Pass through network...\n",
        "print(np.argmax(model(tf.expand_dims(X_test[12], 0))))"
      ],
      "execution_count": 106,
      "outputs": [
        {
          "output_type": "stream",
          "text": [
            "9\n"
          ],
          "name": "stdout"
        },
        {
          "output_type": "display_data",
          "data": {
            "image/png": "[encoded data removed]",
            "text/plain": [
              "<Figure size 432x288 with 1 Axes>"
            ]
          },
          "metadata": {
            "tags": []
          }
        }
      ]
    }
  ]
}